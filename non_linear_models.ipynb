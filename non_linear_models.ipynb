{
 "cells": [
  {
   "cell_type": "code",
   "execution_count": 1,
   "id": "tropical-congo",
   "metadata": {},
   "outputs": [],
   "source": [
    "import pandas as pd\n",
    "import numpy as np\n",
    "from sklearn.model_selection import train_test_split\n",
    "from sklearn.tree import DecisionTreeClassifier\n",
    "from sklearn.metrics import roc_curve, confusion_matrix, classification_report, precision_recall_curve, roc_auc_score, f1_score\n",
    "from sklearn.ensemble import RandomForestClassifier\n",
    "from xgboost import XGBClassifier\n",
    "import warnings\n",
    "warnings.filterwarnings('ignore')"
   ]
  },
  {
   "cell_type": "code",
   "execution_count": 2,
   "id": "absolute-equation",
   "metadata": {},
   "outputs": [
    {
     "data": {
      "text/plain": [
       "Index(['ID', 'Year_Birth', 'Education', 'Marital_Status', 'Income', 'Kidhome',\n",
       "       'Teenhome', 'Dt_Customer', 'Recency', 'MntWines', 'MntFruits',\n",
       "       'MntMeatProducts', 'MntFishProducts', 'MntSweetProducts',\n",
       "       'MntGoldProds', 'NumDealsPurchases', 'NumWebPurchases',\n",
       "       'NumCatalogPurchases', 'NumStorePurchases', 'NumWebVisitsMonth',\n",
       "       'AcceptedCmp3', 'AcceptedCmp4', 'AcceptedCmp5', 'AcceptedCmp1',\n",
       "       'AcceptedCmp2', 'Response', 'Complain', 'Country', 'Age',\n",
       "       'days_since_joining', 'Age_bin', 'Income_bin', 'People_at_home',\n",
       "       'Income_per_person', 'Response1', '2n Cycle', 'Basic', 'Graduation',\n",
       "       'Master', 'PhD', 'Absurd', 'Alone', 'Divorced', 'Married', 'Single',\n",
       "       'Together', 'Widow', 'YOLO', 'AUS', 'CA', 'GER', 'IND', 'ME', 'SA',\n",
       "       'SP', 'US', 'Age_35_44', 'Age_45_59', 'Age_above59', 'Age_under35',\n",
       "       'Income_35k_65k', 'Income_above65k', 'Income_under35k'],\n",
       "      dtype='object')"
      ]
     },
     "execution_count": 2,
     "metadata": {},
     "output_type": "execute_result"
    }
   ],
   "source": [
    "marketing = pd.read_csv('data/marketing_features.csv')\n",
    "marketing.columns"
   ]
  },
  {
   "cell_type": "markdown",
   "id": "exposed-lodging",
   "metadata": {},
   "source": [
    "## Decision Trees"
   ]
  },
  {
   "cell_type": "code",
   "execution_count": 3,
   "id": "tutorial-guyana",
   "metadata": {},
   "outputs": [],
   "source": [
    "X1 = marketing[['Age','Income','Kidhome','Teenhome','Recency','NumWebVisitsMonth','days_since_joining','Income_per_person','People_at_home']]\n",
    "X2 = marketing.iloc[:,35:]\n",
    "X = pd.concat([X1,X2], axis=1)\n",
    "y = marketing['Response']"
   ]
  },
  {
   "cell_type": "code",
   "execution_count": 4,
   "id": "collectible-motel",
   "metadata": {},
   "outputs": [],
   "source": [
    "## Train Val Test Split (80-10-10)\n",
    "X_train_int, X_test, y_train_int, y_test = train_test_split(X, y, test_size=0.1, random_state=42)\n",
    "X_train, X_val, y_train, y_val = train_test_split(X_train_int, y_train_int, test_size=0.1111, random_state=42)"
   ]
  },
  {
   "cell_type": "code",
   "execution_count": 5,
   "id": "coastal-mistake",
   "metadata": {},
   "outputs": [
    {
     "data": {
      "text/plain": [
       "DecisionTreeClassifier(max_depth=5, min_samples_split=20, random_state=42)"
      ]
     },
     "execution_count": 5,
     "metadata": {},
     "output_type": "execute_result"
    }
   ],
   "source": [
    "dt = DecisionTreeClassifier(max_depth=5, min_samples_split=20, random_state=42)\n",
    "dt.fit(X_train, y_train)"
   ]
  },
  {
   "cell_type": "code",
   "execution_count": 6,
   "id": "committed-prescription",
   "metadata": {},
   "outputs": [],
   "source": [
    "y_val_pred = dt.predict(X_val)"
   ]
  },
  {
   "cell_type": "code",
   "execution_count": 7,
   "id": "approved-danger",
   "metadata": {},
   "outputs": [
    {
     "name": "stdout",
     "output_type": "stream",
     "text": [
      "Confusion Matrix:\n",
      "[[144  18]\n",
      " [ 36  26]]\n",
      "Classification Report:\n",
      "              precision    recall  f1-score   support\n",
      "\n",
      "           0       0.80      0.89      0.84       162\n",
      "           1       0.59      0.42      0.49        62\n",
      "\n",
      "    accuracy                           0.76       224\n",
      "   macro avg       0.70      0.65      0.67       224\n",
      "weighted avg       0.74      0.76      0.74       224\n",
      "\n",
      "AUC ROC:\n",
      "0.6541218637992832\n"
     ]
    }
   ],
   "source": [
    "print('Confusion Matrix:')\n",
    "print(confusion_matrix(y_val, y_val_pred))\n",
    "print('Classification Report:')\n",
    "print(classification_report(y_val, y_val_pred))\n",
    "print('AUC ROC:')\n",
    "print(roc_auc_score(y_val,y_val_pred))"
   ]
  },
  {
   "cell_type": "markdown",
   "id": "occasional-render",
   "metadata": {},
   "source": [
    "## Random Forests"
   ]
  },
  {
   "cell_type": "code",
   "execution_count": 8,
   "id": "recent-nerve",
   "metadata": {},
   "outputs": [
    {
     "name": "stdout",
     "output_type": "stream",
     "text": [
      "n:100,\t depth:5,\t f1:0.4948,\t auc_roc:0.6596\n",
      "n:100,\t depth:8,\t f1:0.551,\t auc_roc:0.69\n",
      "n:100,\t depth:10,\t f1:0.5263,\t auc_roc:0.6769\n",
      "n:100,\t depth:12,\t f1:0.5545,\t auc_roc:0.6919\n",
      "n:100,\t depth:14,\t f1:0.5524,\t auc_roc:0.6907\n",
      "n:100,\t depth:16,\t f1:0.5577,\t auc_roc:0.6937\n",
      "n:100,\t depth:18,\t f1:0.5385,\t auc_roc:0.6826\n",
      "n:100,\t depth:20,\t f1:0.5631,\t auc_roc:0.6968\n"
     ]
    }
   ],
   "source": [
    "n_est = [100]\n",
    "depth = [5,8,10,12,14,16,18,20]\n",
    "for i in n_est:\n",
    "    for j in depth:\n",
    "        rf = RandomForestClassifier(n_estimators=i, max_depth=j, random_state=42)\n",
    "        rf.fit(X_train, y_train)\n",
    "        y_val_pred = rf.predict(X_val)\n",
    "        f1 = round(f1_score(y_val, y_val_pred),4)\n",
    "        auc_roc = round(roc_auc_score(y_val, y_val_pred),4)\n",
    "        print('n:%s,\\t depth:%s,\\t f1:%s,\\t auc_roc:%s' %(i,j,f1,auc_roc))"
   ]
  },
  {
   "cell_type": "code",
   "execution_count": 9,
   "id": "worst-memory",
   "metadata": {},
   "outputs": [],
   "source": [
    "rf = RandomForestClassifier(n_estimators=20, max_depth=14, random_state=42)\n",
    "rf.fit(X_train, y_train)\n",
    "y_val_pred = rf.predict(X_val)"
   ]
  },
  {
   "cell_type": "code",
   "execution_count": 10,
   "id": "arabic-universal",
   "metadata": {},
   "outputs": [
    {
     "name": "stdout",
     "output_type": "stream",
     "text": [
      "Confusion Matrix:\n",
      "[[149  13]\n",
      " [ 35  27]]\n",
      "Classification Report:\n",
      "              precision    recall  f1-score   support\n",
      "\n",
      "           0       0.81      0.92      0.86       162\n",
      "           1       0.68      0.44      0.53        62\n",
      "\n",
      "    accuracy                           0.79       224\n",
      "   macro avg       0.74      0.68      0.70       224\n",
      "weighted avg       0.77      0.79      0.77       224\n",
      "\n",
      "AUC ROC:\n",
      "0.6776184786937475\n"
     ]
    }
   ],
   "source": [
    "print('Confusion Matrix:')\n",
    "print(confusion_matrix(y_val, y_val_pred))\n",
    "print('Classification Report:')\n",
    "print(classification_report(y_val, y_val_pred))\n",
    "print('AUC ROC:')\n",
    "print(roc_auc_score(y_val,y_val_pred))"
   ]
  },
  {
   "cell_type": "markdown",
   "id": "coupled-victim",
   "metadata": {},
   "source": [
    "## XGB"
   ]
  },
  {
   "cell_type": "code",
   "execution_count": 11,
   "id": "mexican-powell",
   "metadata": {},
   "outputs": [
    {
     "name": "stdout",
     "output_type": "stream",
     "text": [
      "[20:19:40] WARNING: /tmp/build/80754af9/xgboost-split_1619724447847/work/src/learner.cc:1061: Starting in XGBoost 1.3.0, the default evaluation metric used with the objective 'binary:logistic' was changed from 'error' to 'logloss'. Explicitly set eval_metric if you'd like to restore the old behavior.\n",
      "n:30,\t depth:3,\t f1:0.5243,\t auc_roc:0.6745\n",
      "[20:19:40] WARNING: /tmp/build/80754af9/xgboost-split_1619724447847/work/src/learner.cc:1061: Starting in XGBoost 1.3.0, the default evaluation metric used with the objective 'binary:logistic' was changed from 'error' to 'logloss'. Explicitly set eval_metric if you'd like to restore the old behavior.\n",
      "n:30,\t depth:5,\t f1:0.4902,\t auc_roc:0.6553\n",
      "[20:19:40] WARNING: /tmp/build/80754af9/xgboost-split_1619724447847/work/src/learner.cc:1061: Starting in XGBoost 1.3.0, the default evaluation metric used with the objective 'binary:logistic' was changed from 'error' to 'logloss'. Explicitly set eval_metric if you'd like to restore the old behavior.\n",
      "n:30,\t depth:8,\t f1:0.4954,\t auc_roc:0.656\n",
      "[20:19:40] WARNING: /tmp/build/80754af9/xgboost-split_1619724447847/work/src/learner.cc:1061: Starting in XGBoost 1.3.0, the default evaluation metric used with the objective 'binary:logistic' was changed from 'error' to 'logloss'. Explicitly set eval_metric if you'd like to restore the old behavior.\n",
      "n:30,\t depth:10,\t f1:0.5,\t auc_roc:0.6591\n",
      "[20:19:41] WARNING: /tmp/build/80754af9/xgboost-split_1619724447847/work/src/learner.cc:1061: Starting in XGBoost 1.3.0, the default evaluation metric used with the objective 'binary:logistic' was changed from 'error' to 'logloss'. Explicitly set eval_metric if you'd like to restore the old behavior.\n",
      "n:30,\t depth:12,\t f1:0.5,\t auc_roc:0.6591\n",
      "[20:19:41] WARNING: /tmp/build/80754af9/xgboost-split_1619724447847/work/src/learner.cc:1061: Starting in XGBoost 1.3.0, the default evaluation metric used with the objective 'binary:logistic' was changed from 'error' to 'logloss'. Explicitly set eval_metric if you'd like to restore the old behavior.\n",
      "n:30,\t depth:14,\t f1:0.486,\t auc_roc:0.651\n",
      "[20:19:41] WARNING: /tmp/build/80754af9/xgboost-split_1619724447847/work/src/learner.cc:1061: Starting in XGBoost 1.3.0, the default evaluation metric used with the objective 'binary:logistic' was changed from 'error' to 'logloss'. Explicitly set eval_metric if you'd like to restore the old behavior.\n",
      "n:30,\t depth:16,\t f1:0.5185,\t auc_roc:0.6703\n",
      "[20:19:41] WARNING: /tmp/build/80754af9/xgboost-split_1619724447847/work/src/learner.cc:1061: Starting in XGBoost 1.3.0, the default evaluation metric used with the objective 'binary:logistic' was changed from 'error' to 'logloss'. Explicitly set eval_metric if you'd like to restore the old behavior.\n",
      "n:30,\t depth:18,\t f1:0.5273,\t auc_roc:0.6752\n",
      "[20:19:41] WARNING: /tmp/build/80754af9/xgboost-split_1619724447847/work/src/learner.cc:1061: Starting in XGBoost 1.3.0, the default evaluation metric used with the objective 'binary:logistic' was changed from 'error' to 'logloss'. Explicitly set eval_metric if you'd like to restore the old behavior.\n",
      "n:30,\t depth:20,\t f1:0.537,\t auc_roc:0.6814\n"
     ]
    }
   ],
   "source": [
    "n_est = [30]\n",
    "depth = [3,5,8,10,12,14,16,18,20]\n",
    "for i in n_est:\n",
    "    for j in depth:\n",
    "        xgb = XGBClassifier(n_estimators=i, max_depth=j, random_state=42)\n",
    "        xgb.fit(X_train, y_train)\n",
    "        y_val_pred = xgb.predict(X_val)\n",
    "        f1 = round(f1_score(y_val, y_val_pred),4)\n",
    "        auc_roc = round(roc_auc_score(y_val, y_val_pred),4)\n",
    "        print('n:%s,\\t depth:%s,\\t f1:%s,\\t auc_roc:%s' %(i,j,f1,auc_roc))"
   ]
  },
  {
   "cell_type": "code",
   "execution_count": 12,
   "id": "encouraging-stable",
   "metadata": {},
   "outputs": [
    {
     "name": "stdout",
     "output_type": "stream",
     "text": [
      "[20:19:42] WARNING: /tmp/build/80754af9/xgboost-split_1619724447847/work/src/learner.cc:1061: Starting in XGBoost 1.3.0, the default evaluation metric used with the objective 'binary:logistic' was changed from 'error' to 'logloss'. Explicitly set eval_metric if you'd like to restore the old behavior.\n"
     ]
    }
   ],
   "source": [
    "xgb = XGBClassifier(n_estimators=30, max_depth=5, random_state=42)\n",
    "xgb.fit(X_train, y_train)\n",
    "y_val_pred = xgb.predict(X_val)"
   ]
  },
  {
   "cell_type": "code",
   "execution_count": 13,
   "id": "fallen-psychology",
   "metadata": {},
   "outputs": [
    {
     "name": "stdout",
     "output_type": "stream",
     "text": [
      "Confusion Matrix:\n",
      "[[147  15]\n",
      " [ 37  25]]\n",
      "Classification Report:\n",
      "              precision    recall  f1-score   support\n",
      "\n",
      "           0       0.80      0.91      0.85       162\n",
      "           1       0.62      0.40      0.49        62\n",
      "\n",
      "    accuracy                           0.77       224\n",
      "   macro avg       0.71      0.66      0.67       224\n",
      "weighted avg       0.75      0.77      0.75       224\n",
      "\n",
      "AUC ROC:\n",
      "0.6553166069295102\n"
     ]
    }
   ],
   "source": [
    "print('Confusion Matrix:')\n",
    "print(confusion_matrix(y_val, y_val_pred))\n",
    "print('Classification Report:')\n",
    "print(classification_report(y_val, y_val_pred))\n",
    "print('AUC ROC:')\n",
    "print(roc_auc_score(y_val,y_val_pred))"
   ]
  },
  {
   "cell_type": "code",
   "execution_count": null,
   "id": "studied-discipline",
   "metadata": {},
   "outputs": [],
   "source": []
  },
  {
   "cell_type": "markdown",
   "id": "alpine-factory",
   "metadata": {},
   "source": [
    "## Test Performance"
   ]
  },
  {
   "cell_type": "markdown",
   "id": "going-vacation",
   "metadata": {},
   "source": [
    "### Decision Tree"
   ]
  },
  {
   "cell_type": "code",
   "execution_count": 14,
   "id": "vietnamese-cornell",
   "metadata": {},
   "outputs": [
    {
     "name": "stdout",
     "output_type": "stream",
     "text": [
      "Confusion Matrix:\n",
      "[[140  29]\n",
      " [ 31  24]]\n",
      "Classification Report:\n",
      "              precision    recall  f1-score   support\n",
      "\n",
      "           0       0.82      0.83      0.82       169\n",
      "           1       0.45      0.44      0.44        55\n",
      "\n",
      "    accuracy                           0.73       224\n",
      "   macro avg       0.64      0.63      0.63       224\n",
      "weighted avg       0.73      0.73      0.73       224\n",
      "\n",
      "AUC ROC:\n",
      "0.6323830016137708\n"
     ]
    }
   ],
   "source": [
    "y_test_pred = dt.predict(X_test)\n",
    "print('Confusion Matrix:')\n",
    "print(confusion_matrix(y_test, y_test_pred))\n",
    "print('Classification Report:')\n",
    "print(classification_report(y_test, y_test_pred))\n",
    "print('AUC ROC:')\n",
    "print(roc_auc_score(y_test,y_test_pred))"
   ]
  },
  {
   "cell_type": "markdown",
   "id": "creative-trader",
   "metadata": {},
   "source": [
    "## Random Forests"
   ]
  },
  {
   "cell_type": "code",
   "execution_count": 15,
   "id": "casual-attachment",
   "metadata": {},
   "outputs": [
    {
     "name": "stdout",
     "output_type": "stream",
     "text": [
      "Confusion Matrix:\n",
      "[[151  18]\n",
      " [ 32  23]]\n",
      "Classification Report:\n",
      "              precision    recall  f1-score   support\n",
      "\n",
      "           0       0.83      0.89      0.86       169\n",
      "           1       0.56      0.42      0.48        55\n",
      "\n",
      "    accuracy                           0.78       224\n",
      "   macro avg       0.69      0.66      0.67       224\n",
      "weighted avg       0.76      0.78      0.76       224\n",
      "\n",
      "AUC ROC:\n",
      "0.6558364712210867\n"
     ]
    }
   ],
   "source": [
    "y_test_pred = rf.predict(X_test)\n",
    "print('Confusion Matrix:')\n",
    "print(confusion_matrix(y_test, y_test_pred))\n",
    "print('Classification Report:')\n",
    "print(classification_report(y_test, y_test_pred))\n",
    "print('AUC ROC:')\n",
    "print(roc_auc_score(y_test,y_test_pred))"
   ]
  },
  {
   "cell_type": "markdown",
   "id": "difficult-duncan",
   "metadata": {},
   "source": [
    "## XGBoost "
   ]
  },
  {
   "cell_type": "code",
   "execution_count": 16,
   "id": "attempted-prevention",
   "metadata": {},
   "outputs": [
    {
     "name": "stdout",
     "output_type": "stream",
     "text": [
      "Confusion Matrix:\n",
      "[[150  19]\n",
      " [ 35  20]]\n",
      "Classification Report:\n",
      "              precision    recall  f1-score   support\n",
      "\n",
      "           0       0.81      0.89      0.85       169\n",
      "           1       0.51      0.36      0.43        55\n",
      "\n",
      "    accuracy                           0.76       224\n",
      "   macro avg       0.66      0.63      0.64       224\n",
      "weighted avg       0.74      0.76      0.74       224\n",
      "\n",
      "AUC ROC:\n",
      "0.6256051640667026\n"
     ]
    }
   ],
   "source": [
    "y_test_pred = xgb.predict(X_test)\n",
    "print('Confusion Matrix:')\n",
    "print(confusion_matrix(y_test, y_test_pred))\n",
    "print('Classification Report:')\n",
    "print(classification_report(y_test, y_test_pred))\n",
    "print('AUC ROC:')\n",
    "print(roc_auc_score(y_test,y_test_pred))"
   ]
  },
  {
   "cell_type": "code",
   "execution_count": null,
   "id": "massive-excuse",
   "metadata": {},
   "outputs": [],
   "source": []
  }
 ],
 "metadata": {
  "kernelspec": {
   "display_name": "Python 3",
   "language": "python",
   "name": "python3"
  },
  "language_info": {
   "codemirror_mode": {
    "name": "ipython",
    "version": 3
   },
   "file_extension": ".py",
   "mimetype": "text/x-python",
   "name": "python",
   "nbconvert_exporter": "python",
   "pygments_lexer": "ipython3",
   "version": "3.7.6"
  }
 },
 "nbformat": 4,
 "nbformat_minor": 5
}
